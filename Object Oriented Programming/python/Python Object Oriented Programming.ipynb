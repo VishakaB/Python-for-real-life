{
 "cells": [
  {
   "cell_type": "code",
   "execution_count": 20,
   "id": "7e473916",
   "metadata": {},
   "outputs": [],
   "source": [
    "#classes as templates for objects\n",
    "class Person():\n",
    "    #initialize attributes\n",
    "    def __init__(self,name, age, color):\n",
    "        #atrributes assign for our person  class\n",
    "        self.name = name\n",
    "        self.age = age\n",
    "        self.color = color\n",
    "        #method\n",
    "    def year_of_birth(self):\n",
    "        return 2021-self.age\n",
    "    def projected_age(self,years=5):\n",
    "        return self.age+years\n",
    "    "
   ]
  },
  {
   "cell_type": "code",
   "execution_count": 21,
   "id": "e5eca472",
   "metadata": {},
   "outputs": [],
   "source": [
    "new_person = Person('Elon_musk',38,'blue')"
   ]
  },
  {
   "cell_type": "code",
   "execution_count": 15,
   "id": "a85e536d",
   "metadata": {},
   "outputs": [
    {
     "data": {
      "text/plain": [
       "'blue'"
      ]
     },
     "execution_count": 15,
     "metadata": {},
     "output_type": "execute_result"
    }
   ],
   "source": [
    "#accessing a class atrribute\n",
    "new_person.color"
   ]
  },
  {
   "cell_type": "code",
   "execution_count": 17,
   "id": "96d7b1f4",
   "metadata": {},
   "outputs": [
    {
     "data": {
      "text/plain": [
       "1983"
      ]
     },
     "execution_count": 17,
     "metadata": {},
     "output_type": "execute_result"
    }
   ],
   "source": [
    "new_person.year_of_birth()"
   ]
  },
  {
   "cell_type": "code",
   "execution_count": 24,
   "id": "277243ee",
   "metadata": {},
   "outputs": [
    {
     "data": {
      "text/plain": [
       "48"
      ]
     },
     "execution_count": 24,
     "metadata": {},
     "output_type": "execute_result"
    }
   ],
   "source": [
    "new_person.projected_age(years = 10)"
   ]
  },
  {
   "cell_type": "markdown",
   "id": "405abea6",
   "metadata": {},
   "source": [
    "# Inheritance"
   ]
  },
  {
   "cell_type": "code",
   "execution_count": 52,
   "id": "6bf40a7e",
   "metadata": {},
   "outputs": [],
   "source": [
    "class Astronaut(Person):\n",
    "    #Define initialization function \n",
    "    def __init__(self, name, age, color, mission_length_months):\n",
    "        #super method allows inheritance\n",
    "        super().__init__(name,age,color)\n",
    "        self.mission_length_months = mission_length_months\n",
    "    #new method\n",
    "    #access age from parent class, Person\n",
    "    def age_on_return(self):\n",
    "        return self.projected_age(years = int(self.mission_length_months/12))\n",
    "        "
   ]
  },
  {
   "cell_type": "code",
   "execution_count": 54,
   "id": "46c3d0fa",
   "metadata": {},
   "outputs": [],
   "source": [
    "new_astronaut = Astronaut('Nick',99,'purple',48)"
   ]
  },
  {
   "cell_type": "code",
   "execution_count": 51,
   "id": "64752bb4",
   "metadata": {},
   "outputs": [
    {
     "data": {
      "text/plain": [
       "48"
      ]
     },
     "execution_count": 51,
     "metadata": {},
     "output_type": "execute_result"
    }
   ],
   "source": [
    "new_astronaut.mission_length_months"
   ]
  },
  {
   "cell_type": "code",
   "execution_count": 55,
   "id": "5bf3c55e",
   "metadata": {},
   "outputs": [
    {
     "data": {
      "text/plain": [
       "103"
      ]
     },
     "execution_count": 55,
     "metadata": {},
     "output_type": "execute_result"
    }
   ],
   "source": [
    "new_astronaut.age_on_return()"
   ]
  }
 ],
 "metadata": {
  "kernelspec": {
   "display_name": "Python 3 (ipykernel)",
   "language": "python",
   "name": "python3"
  },
  "language_info": {
   "codemirror_mode": {
    "name": "ipython",
    "version": 3
   },
   "file_extension": ".py",
   "mimetype": "text/x-python",
   "name": "python",
   "nbconvert_exporter": "python",
   "pygments_lexer": "ipython3",
   "version": "3.9.7"
  }
 },
 "nbformat": 4,
 "nbformat_minor": 5
}
